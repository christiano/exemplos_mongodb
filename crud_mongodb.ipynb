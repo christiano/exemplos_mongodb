{
 "cells": [
  {
   "cell_type": "markdown",
   "metadata": {},
   "source": [
    "# Exemplo de CRUD no MongoDB"
   ]
  },
  {
   "cell_type": "markdown",
   "metadata": {},
   "source": [
    "Exemplo de CRUD completo em MongoDB\n",
    "\n",
    "Autor: Christiano Anderson\n",
    "Propus Data Science"
   ]
  },
  {
   "cell_type": "markdown",
   "metadata": {},
   "source": [
    "## Estabelecendo a conexão com o banco"
   ]
  },
  {
   "cell_type": "code",
   "execution_count": 11,
   "metadata": {
    "collapsed": true
   },
   "outputs": [],
   "source": [
    "from pymongo import MongoClient\n",
    "\n",
    "cli = MongoClient()\n",
    "\n",
    "db = cli['treinamento']\n",
    "\n",
    "col = db['cadastro']\n"
   ]
  },
  {
   "cell_type": "markdown",
   "metadata": {},
   "source": [
    "## Definindo um documento para ser inserido"
   ]
  },
  {
   "cell_type": "code",
   "execution_count": 12,
   "metadata": {
    "collapsed": true
   },
   "outputs": [],
   "source": [
    "cad = {\n",
    "    'nome': 'Christiano Anderson',\n",
    "    'empresa': 'Propus Data Science',\n",
    "    'cursos': ['python','mongodb']\n",
    "}"
   ]
  },
  {
   "cell_type": "markdown",
   "metadata": {},
   "source": [
    "## Inserindo o documento na base"
   ]
  },
  {
   "cell_type": "code",
   "execution_count": 13,
   "metadata": {
    "collapsed": false
   },
   "outputs": [],
   "source": [
    "cad_id = col.insert_one(cad)"
   ]
  },
  {
   "cell_type": "code",
   "execution_count": 16,
   "metadata": {
    "collapsed": false
   },
   "outputs": [
    {
     "name": "stdout",
     "output_type": "stream",
     "text": [
      "56d08002cf27e32e44ae8291\n"
     ]
    }
   ],
   "source": [
    "print cad_id.inserted_id"
   ]
  },
  {
   "cell_type": "markdown",
   "metadata": {},
   "source": [
    "## Recuperando documentos"
   ]
  },
  {
   "cell_type": "code",
   "execution_count": 17,
   "metadata": {
    "collapsed": true
   },
   "outputs": [],
   "source": [
    "cadastro = db['cadastro']"
   ]
  },
  {
   "cell_type": "code",
   "execution_count": 18,
   "metadata": {
    "collapsed": false
   },
   "outputs": [
    {
     "data": {
      "text/plain": [
       "{u'_id': ObjectId('56d08002cf27e32e44ae8291'),\n",
       " u'cursos': [u'python', u'mongodb'],\n",
       " u'empresa': u'Propus Data Science',\n",
       " u'nome': u'Christiano Anderson'}"
      ]
     },
     "execution_count": 18,
     "metadata": {},
     "output_type": "execute_result"
    }
   ],
   "source": [
    "cadastro.find_one({})"
   ]
  },
  {
   "cell_type": "markdown",
   "metadata": {},
   "source": [
    "## Inserindo outros documentos"
   ]
  },
  {
   "cell_type": "code",
   "execution_count": 19,
   "metadata": {
    "collapsed": false
   },
   "outputs": [
    {
     "data": {
      "text/plain": [
       "<pymongo.results.InsertOneResult at 0x7efdf480bc30>"
      ]
     },
     "execution_count": 19,
     "metadata": {},
     "output_type": "execute_result"
    }
   ],
   "source": [
    "col.insert_one({\n",
    "        'nome':'Carolina',\n",
    "        'idade': 29,\n",
    "        'empresa': 'ACME',\n",
    "        'cursos': ['mongodb','ruby'],\n",
    "        'contatos': {\n",
    "            'celular':'5199998888',\n",
    "            'email': 'carol@tmp.com',\n",
    "            'ramal': '2222'\n",
    "            }\n",
    "    })"
   ]
  },
  {
   "cell_type": "code",
   "execution_count": 26,
   "metadata": {
    "collapsed": false
   },
   "outputs": [
    {
     "data": {
      "text/plain": [
       "<pymongo.results.InsertOneResult at 0x7efdf480be10>"
      ]
     },
     "execution_count": 26,
     "metadata": {},
     "output_type": "execute_result"
    }
   ],
   "source": [
    "col.insert_one({\n",
    "        'nome':'Juliana',\n",
    "        'idade': 25,\n",
    "        'empresa': 'ACME',\n",
    "        'cursos': ['mongodb','ruby','python'],\n",
    "        'contatos': {\n",
    "            'celular':'5199554433',\n",
    "            'email': 'july@tmp.com',\n",
    "            'ramal': '2221'\n",
    "            }\n",
    "    })"
   ]
  },
  {
   "cell_type": "code",
   "execution_count": 20,
   "metadata": {
    "collapsed": false
   },
   "outputs": [
    {
     "data": {
      "text/plain": [
       "<pymongo.results.InsertOneResult at 0x7efdf480baa0>"
      ]
     },
     "execution_count": 20,
     "metadata": {},
     "output_type": "execute_result"
    }
   ],
   "source": [
    "col.insert_one({\n",
    "        'nome':'Rafael',\n",
    "        'idade': 30,\n",
    "        'empresa': 'XYZ',\n",
    "        'cursos': ['mongodb','php'],\n",
    "        'contatos': {\n",
    "            'celular':'5188882222',\n",
    "            'email': 'rafael@xyz.com',\n",
    "            'ramal': '5511',\n",
    "            'tel_residencial': '5122223333'\n",
    "            }\n",
    "    })"
   ]
  },
  {
   "cell_type": "markdown",
   "metadata": {},
   "source": [
    "## Pesquisando todos os usuários"
   ]
  },
  {
   "cell_type": "code",
   "execution_count": 22,
   "metadata": {
    "collapsed": false
   },
   "outputs": [
    {
     "name": "stdout",
     "output_type": "stream",
     "text": [
      "Christiano Anderson\n",
      "Carolina\n",
      "Rafael\n"
     ]
    }
   ],
   "source": [
    "resultados = col.find({})\n",
    "\n",
    "for r in resultados:\n",
    "    print r['nome']"
   ]
  },
  {
   "cell_type": "markdown",
   "metadata": {},
   "source": [
    "## Pesquisando quem tem Python na matéria"
   ]
  },
  {
   "cell_type": "code",
   "execution_count": 28,
   "metadata": {
    "collapsed": false
   },
   "outputs": [
    {
     "name": "stdout",
     "output_type": "stream",
     "text": [
      "Christiano Anderson\n",
      "Juliana\n"
     ]
    }
   ],
   "source": [
    "resultados = col.find({'cursos':'python'})\n",
    "\n",
    "for r in resultados:\n",
    "    print r['nome']"
   ]
  },
  {
   "cell_type": "markdown",
   "metadata": {},
   "source": [
    "## Pesquisando quem tem menos de 28 anos"
   ]
  },
  {
   "cell_type": "code",
   "execution_count": 30,
   "metadata": {
    "collapsed": false
   },
   "outputs": [
    {
     "name": "stdout",
     "output_type": "stream",
     "text": [
      "Juliana\n"
     ]
    }
   ],
   "source": [
    "resultados = col.find({'idade': {'$lt': 28}})\n",
    "\n",
    "for r in resultados:\n",
    "    print r['nome']"
   ]
  },
  {
   "cell_type": "markdown",
   "metadata": {},
   "source": [
    "## Modificando documento\n",
    "\n",
    "No exemplo abaixo, vamos adicionar cidade a um documento"
   ]
  },
  {
   "cell_type": "code",
   "execution_count": 33,
   "metadata": {
    "collapsed": false
   },
   "outputs": [
    {
     "name": "stdout",
     "output_type": "stream",
     "text": [
      "<pymongo.results.UpdateResult object at 0x7efdf4739190>\n"
     ]
    }
   ],
   "source": [
    "res = col.update_one({'nome':'Christiano Anderson'},{'$set': {'cidade':'Porto Alegre'}})\n",
    "\n",
    "print res"
   ]
  },
  {
   "cell_type": "markdown",
   "metadata": {},
   "source": [
    "## Excluindo documento\n",
    "\n",
    "No exemplo abaixo, vamos apagar o documento da usuária Juliana"
   ]
  },
  {
   "cell_type": "code",
   "execution_count": 34,
   "metadata": {
    "collapsed": false
   },
   "outputs": [
    {
     "name": "stdout",
     "output_type": "stream",
     "text": [
      "4\n",
      "3\n"
     ]
    }
   ],
   "source": [
    "count = col.count({})\n",
    "\n",
    "print count\n",
    "\n",
    "res = col.delete_one({'nome':'Juliana'})\n",
    "\n",
    "count = col.count({})\n",
    "\n",
    "print count"
   ]
  }
 ],
 "metadata": {
  "kernelspec": {
   "display_name": "Python 2",
   "language": "python",
   "name": "python2"
  },
  "language_info": {
   "codemirror_mode": {
    "name": "ipython",
    "version": 2
   },
   "file_extension": ".py",
   "mimetype": "text/x-python",
   "name": "python",
   "nbconvert_exporter": "python",
   "pygments_lexer": "ipython2",
   "version": "2.7.10"
  }
 },
 "nbformat": 4,
 "nbformat_minor": 0
}
